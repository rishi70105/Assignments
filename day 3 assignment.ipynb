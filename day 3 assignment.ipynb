{
 "cells": [
  {
   "cell_type": "code",
   "execution_count": 8,
   "id": "8873f8cb-9ea0-4c18-97ee-f52fae77d6a8",
   "metadata": {},
   "outputs": [
    {
     "name": "stdin",
     "output_type": "stream",
     "text": [
      "Enter marks for Subject 1:  60\n",
      "Enter marks for Subject 2:  54\n",
      "Enter marks for Subject 3:  90\n"
     ]
    },
    {
     "name": "stdout",
     "output_type": "stream",
     "text": [
      "Grade A\n"
     ]
    }
   ],
   "source": [
    "a= int(input(\"Enter marks for Subject 1: \"))\n",
    "b=int(input(\"Enter marks for Subject 2: \"))\n",
    "c=int(input(\"Enter marks for Subject 3: \"))\n",
    "avg =((a+b+c)/3)\n",
    "if (avg<=90):\n",
    "    print(\"Grade A\")\n",
    "elif(80<=avg<90):\n",
    "    print(\"Grade B\")\n",
    "elif(70<=avg<80):\n",
    "    print(\"Grade c\")\n",
    "else:\n",
    "    print(\"Fail\")"
   ]
  },
  {
   "cell_type": "code",
   "execution_count": null,
   "id": "2b4bf3ea-754c-4713-9db3-30b3ac0a780c",
   "metadata": {},
   "outputs": [],
   "source": []
  }
 ],
 "metadata": {
  "kernelspec": {
   "display_name": "Python 3 (ipykernel)",
   "language": "python",
   "name": "python3"
  },
  "language_info": {
   "codemirror_mode": {
    "name": "ipython",
    "version": 3
   },
   "file_extension": ".py",
   "mimetype": "text/x-python",
   "name": "python",
   "nbconvert_exporter": "python",
   "pygments_lexer": "ipython3",
   "version": "3.11.7"
  }
 },
 "nbformat": 4,
 "nbformat_minor": 5
}
