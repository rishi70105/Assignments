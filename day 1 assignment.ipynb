{
 "cells": [
  {
   "cell_type": "code",
   "execution_count": 1,
   "id": "8873f8cb-9ea0-4c18-97ee-f52fae77d6a8",
   "metadata": {},
   "outputs": [
    {
     "name": "stdout",
     "output_type": "stream",
     "text": [
      "type[1]\n"
     ]
    }
   ],
   "source": [
    "\n",
    "i=1\n",
    "float=3.14\n",
    "string=\"anu\"\n",
    "boolean=True\n",
    "print(type[i])\n"
   ]
  },
  {
   "cell_type": "code",
   "execution_count": null,
   "id": "2b4bf3ea-754c-4713-9db3-30b3ac0a780c",
   "metadata": {},
   "outputs": [],
   "source": []
  }
 ],
 "metadata": {
  "kernelspec": {
   "display_name": "Python 3 (ipykernel)",
   "language": "python",
   "name": "python3"
  },
  "language_info": {
   "codemirror_mode": {
    "name": "ipython",
    "version": 3
   },
   "file_extension": ".py",
   "mimetype": "text/x-python",
   "name": "python",
   "nbconvert_exporter": "python",
   "pygments_lexer": "ipython3",
   "version": "3.11.7"
  }
 },
 "nbformat": 4,
 "nbformat_minor": 5
}
