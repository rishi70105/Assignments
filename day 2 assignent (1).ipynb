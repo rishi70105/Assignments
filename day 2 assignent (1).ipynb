{
 "cells": [
  {
   "cell_type": "code",
   "execution_count": 4,
   "id": "8873f8cb-9ea0-4c18-97ee-f52fae77d6a8",
   "metadata": {},
   "outputs": [
    {
     "name": "stdout",
     "output_type": "stream",
     "text": [
      "10\n",
      "40\n",
      "[20, 30, 40]\n",
      "50\n"
     ]
    }
   ],
   "source": [
    "# Creating a list with 5 elements\n",
    "my_list = [10, 20, 30, 40, 50]\n",
    "# Accessing elements by index\n",
    "print(my_list[0])  # Output: 10 (first element)\n",
    "print(my_list[3])  # Output: 40 (fourth element)\n",
    "# Accessing a range of elements (slicing)\n",
    "print(my_list[1:4])  # Output: [20, 30, 40] (elements from index 1 to 3)\n",
    "print(my_list[-1])  # Output: 50 (last element)\n"
   ]
  },
  {
   "cell_type": "code",
   "execution_count": null,
   "id": "2b4bf3ea-754c-4713-9db3-30b3ac0a780c",
   "metadata": {},
   "outputs": [],
   "source": []
  }
 ],
 "metadata": {
  "kernelspec": {
   "display_name": "Python 3 (ipykernel)",
   "language": "python",
   "name": "python3"
  },
  "language_info": {
   "codemirror_mode": {
    "name": "ipython",
    "version": 3
   },
   "file_extension": ".py",
   "mimetype": "text/x-python",
   "name": "python",
   "nbconvert_exporter": "python",
   "pygments_lexer": "ipython3",
   "version": "3.11.7"
  }
 },
 "nbformat": 4,
 "nbformat_minor": 5
}
